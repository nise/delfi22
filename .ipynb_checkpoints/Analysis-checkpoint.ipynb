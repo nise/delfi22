{
 "cells": [
  {
   "cell_type": "markdown",
   "metadata": {},
   "source": [
    "# Step 0: Preprocessing"
   ]
  },
  {
   "cell_type": "markdown",
   "metadata": {},
   "source": [
    "## Imports and definitions"
   ]
  },
  {
   "cell_type": "code",
   "execution_count": null,
   "metadata": {},
   "outputs": [
    {
     "ename": "",
     "evalue": "",
     "output_type": "error",
     "traceback": [
      "\u001b[1;31mFailed to start the Kernel. \n",
      "Unhandled error. \n",
      "View Jupyter <a href='command:jupyter.viewOutput'>log</a> for further details."
     ]
    }
   ],
   "source": [
    "import math\n",
    "import os\n",
    "import pandas as pd\n",
    "import numpy as np\n",
    "import matplotlib as mpl\n",
    "import matplotlib.pyplot as plt\n",
    "import matplotlib.dates as mdates\n",
    "import pm4py\n",
    "from pm4py.algo.discovery.heuristics import algorithm as heuristics_miner\n",
    "from pm4py.visualization.heuristics_net.variants import pydotplus_vis\n",
    "from pm4py.visualization.heuristics_net import visualizer\n",
    "from sklearn.cluster import KMeans\n",
    "from sklearn.metrics import silhouette_score, silhouette_samples\n",
    "from yellowbrick.cluster import KElbowVisualizer\n",
    "import seaborn as sns"
   ]
  },
  {
   "cell_type": "code",
   "execution_count": null,
   "metadata": {},
   "outputs": [
    {
     "ename": "",
     "evalue": "",
     "output_type": "error",
     "traceback": [
      "\u001b[1;31mFailed to start the Kernel. \n",
      "Unhandled error. \n",
      "View Jupyter <a href='command:jupyter.viewOutput'>log</a> for further details."
     ]
    }
   ],
   "source": [
    "subfolder = \"data\" + os.sep\n",
    "no_students = pd.read_csv(subfolder + \"no_students.csv\", header=None)[0].tolist()\n",
    "select_courses = [5]\n",
    "select_sections_per_course = {5: [1,2,3,4]}"
   ]
  },
  {
   "cell_type": "markdown",
   "metadata": {},
   "source": [
    "## Load scrolling data from pickle file"
   ]
  },
  {
   "cell_type": "code",
   "execution_count": null,
   "metadata": {},
   "outputs": [
    {
     "ename": "",
     "evalue": "",
     "output_type": "error",
     "traceback": [
      "\u001b[1;31mFailed to start the Kernel. \n",
      "Unhandled error. \n",
      "View Jupyter <a href='command:jupyter.viewOutput'>log</a> for further details."
     ]
    }
   ],
   "source": [
    "df_scroll = pd.read_csv(subfolder + \"scroll.csv\", sep=\";\", parse_dates=[\"timecreated\", \"value.utc\"])\n",
    "df_scroll"
   ]
  },
  {
   "cell_type": "code",
   "execution_count": null,
   "metadata": {},
   "outputs": [
    {
     "ename": "",
     "evalue": "",
     "output_type": "error",
     "traceback": [
      "\u001b[1;31mFailed to start the Kernel. \n",
      "Unhandled error. \n",
      "View Jupyter <a href='command:jupyter.viewOutput'>log</a> for further details."
     ]
    }
   ],
   "source": [
    "df_scroll.dtypes"
   ]
  },
  {
   "cell_type": "code",
   "execution_count": null,
   "metadata": {},
   "outputs": [
    {
     "ename": "",
     "evalue": "",
     "output_type": "error",
     "traceback": [
      "\u001b[1;31mFailed to start the Kernel. \n",
      "Unhandled error. \n",
      "View Jupyter <a href='command:jupyter.viewOutput'>log</a> for further details."
     ]
    }
   ],
   "source": [
    "df_scroll.columns"
   ]
  },
  {
   "cell_type": "markdown",
   "metadata": {},
   "source": [
    "## Remove unknown pages and old versions of scrolling info\n",
    "## Select courses and students"
   ]
  },
  {
   "cell_type": "code",
   "execution_count": null,
   "metadata": {},
   "outputs": [
    {
     "ename": "",
     "evalue": "",
     "output_type": "error",
     "traceback": [
      "\u001b[1;31mFailed to start the Kernel. \n",
      "Unhandled error. \n",
      "View Jupyter <a href='command:jupyter.viewOutput'>log</a> for further details."
     ]
    }
   ],
   "source": [
    "user_acceptances = pd.read_csv(subfolder + \"user_acceptances.csv\", sep=\";\")"
   ]
  },
  {
   "cell_type": "code",
   "execution_count": null,
   "metadata": {},
   "outputs": [
    {
     "ename": "",
     "evalue": "",
     "output_type": "error",
     "traceback": [
      "\u001b[1;31mFailed to start the Kernel. \n",
      "Unhandled error. \n",
      "View Jupyter <a href='command:jupyter.viewOutput'>log</a> for further details."
     ]
    }
   ],
   "source": [
    "df_scroll = df_scroll[(~df_scroll[\"value.pageid\"].isna()) & (~df_scroll[\"value.utc\"].isna())]\n",
    "df_scroll = df_scroll[df_scroll[\"courseid\"].isin(select_courses)]\n",
    "df_scroll = df_scroll[(~df_scroll[\"userid\"].isin(no_students)) & (df_scroll[\"userid\"].isin(user_acceptances[user_acceptances[\"Einwilligungserklärung zur Forschungsbeteiligung\"] == \"Akzeptiert\"][\"userid\"]))]\n",
    "df_scroll"
   ]
  },
  {
   "cell_type": "markdown",
   "metadata": {},
   "source": [
    "## Derive reading sessions from scrolling data"
   ]
  },
  {
   "cell_type": "code",
   "execution_count": null,
   "metadata": {},
   "outputs": [
    {
     "ename": "",
     "evalue": "",
     "output_type": "error",
     "traceback": [
      "\u001b[1;31mFailed to start the Kernel. \n",
      "Unhandled error. \n",
      "View Jupyter <a href='command:jupyter.viewOutput'>log</a> for further details."
     ]
    }
   ],
   "source": [
    "df_scroll = df_scroll.sort_values(\"value.utc\")"
   ]
  },
  {
   "cell_type": "code",
   "execution_count": null,
   "metadata": {},
   "outputs": [
    {
     "ename": "",
     "evalue": "",
     "output_type": "error",
     "traceback": [
      "\u001b[1;31mFailed to start the Kernel. \n",
      "Unhandled error. \n",
      "View Jupyter <a href='command:jupyter.viewOutput'>log</a> for further details."
     ]
    }
   ],
   "source": [
    "lim = (1000*60*10) #10mins\n",
    "lim"
   ]
  },
  {
   "cell_type": "code",
   "execution_count": null,
   "metadata": {},
   "outputs": [
    {
     "ename": "",
     "evalue": "",
     "output_type": "error",
     "traceback": [
      "\u001b[1;31mFailed to start the Kernel. \n",
      "Unhandled error. \n",
      "View Jupyter <a href='command:jupyter.viewOutput'>log</a> for further details."
     ]
    }
   ],
   "source": [
    "diffprev = df_scroll.groupby([\"userid\", \"value.pageid\"], sort=False)[[\"value.utc\",\"value.relativeTime\"]].apply(func=lambda x: x.diff())\n",
    "\n",
    "diffprev"
   ]
  },
  {
   "cell_type": "code",
   "execution_count": null,
   "metadata": {},
   "outputs": [
    {
     "ename": "",
     "evalue": "",
     "output_type": "error",
     "traceback": [
      "\u001b[1;31mFailed to start the Kernel. \n",
      "Unhandled error. \n",
      "View Jupyter <a href='command:jupyter.viewOutput'>log</a> for further details."
     ]
    }
   ],
   "source": [
    "diffnext = df_scroll.groupby([\"userid\", \"value.pageid\"], sort=False)[[\"value.utc\",\"value.relativeTime\"]].apply(func=lambda x: x.diff(-1))\n",
    "diffnext"
   ]
  },
  {
   "cell_type": "markdown",
   "metadata": {},
   "source": [
    "### Define session borders"
   ]
  },
  {
   "cell_type": "code",
   "execution_count": null,
   "metadata": {},
   "outputs": [
    {
     "ename": "",
     "evalue": "",
     "output_type": "error",
     "traceback": [
      "\u001b[1;31mFailed to start the Kernel. \n",
      "Unhandled error. \n",
      "View Jupyter <a href='command:jupyter.viewOutput'>log</a> for further details."
     ]
    }
   ],
   "source": [
    "df_scroll[[\"diffprev_utc\",\"diffprev_relativeTime\"]] = diffprev\n",
    "df_scroll[[\"diffnext_utc\",\"diffnext_relativeTime\"]] = diffnext\n",
    "df_scroll[\"sessionstart\"] = (df_scroll[\"diffprev_relativeTime\"].isna()) | (df_scroll[\"diffprev_relativeTime\"] < -1*lim) | (df_scroll[\"diffprev_utc\"] > \"10 minutes\")\n",
    "df_scroll[\"sessionend\"] = (df_scroll[\"diffnext_relativeTime\"].isna()) | (df_scroll[\"diffnext_relativeTime\"] > lim) | (df_scroll[\"diffnext_utc\"] < \"-10 minutes\")\n",
    "df_scroll[\"sessionbreakstart\"] = (df_scroll[\"diffnext_relativeTime\"] < -1*0.5*lim) & (~df_scroll[\"sessionend\"])\n",
    "df_scroll[\"sessionbreakend\"] = (df_scroll[\"diffprev_relativeTime\"] > 0.5*lim) & (~df_scroll[\"sessionstart\"]) \n",
    "\n",
    "#remove single scroll events\n",
    "df_scroll = df_scroll[~(df_scroll[\"sessionstart\"] & df_scroll[\"sessionend\"])]\n",
    "\n",
    "#separate events where start and breakstart are identical\n",
    "dd = df_scroll[(df_scroll[\"sessionstart\"] & df_scroll[\"sessionbreakstart\"])]\n",
    "df_scroll.loc[(df_scroll[\"sessionstart\"]) & (df_scroll[\"sessionbreakstart\"]), \"sessionbreakstart\"] = False\n",
    "dd[\"sessionstart\"] = False\n",
    "dd[\"value.utc\"] = dd[\"value.utc\"] + pd.offsets.Second(1)\n",
    "df_scroll = pd.concat([df_scroll, dd])\n",
    "\n",
    "#separate events where end and breakend are identical\n",
    "dd = df_scroll[(df_scroll[\"sessionend\"] & df_scroll[\"sessionbreakend\"])]\n",
    "df_scroll.loc[(df_scroll[\"sessionend\"]) & (df_scroll[\"sessionbreakend\"]), \"sessionbreakend\"] = False\n",
    "dd[\"sessionend\"] = False\n",
    "dd[\"value.utc\"] = dd[\"value.utc\"] - pd.offsets.Second(1)\n",
    "df_scroll = pd.concat([df_scroll, dd])\n",
    "\n",
    "#separate events where breakstart and breakend are identical\n",
    "dd = df_scroll[(df_scroll[\"sessionbreakstart\"] & df_scroll[\"sessionbreakend\"])]\n",
    "df_scroll.loc[(df_scroll[\"sessionbreakstart\"]) & (df_scroll[\"sessionbreakend\"]), \"sessionbreakend\"] = False\n",
    "dd[\"sessionbreakstart\"] = False\n",
    "dd[\"value.utc\"] = dd[\"value.utc\"] - pd.offsets.Second(1)\n",
    "df_scroll = pd.concat([df_scroll, dd])\n",
    "\n",
    "df_scroll = df_scroll.sort_values(\"value.utc\")\n",
    "del diffnext, diffprev, dd, lim"
   ]
  },
  {
   "cell_type": "code",
   "execution_count": null,
   "metadata": {},
   "outputs": [
    {
     "ename": "",
     "evalue": "",
     "output_type": "error",
     "traceback": [
      "\u001b[1;31mFailed to start the Kernel. \n",
      "Unhandled error. \n",
      "View Jupyter <a href='command:jupyter.viewOutput'>log</a> for further details."
     ]
    }
   ],
   "source": [
    "mpl.rcParams['figure.figsize'] = [20, 2]\n",
    "\n",
    "d = df_scroll[(df_scroll.userid == 1116) & (df_scroll.courseid == 5) & (df_scroll[\"value.pageid\"] == 12) & (df_scroll[\"value.utc\"] > \"10.09.2020 15:00\") & (df_scroll[\"value.utc\"] < \"10.10.2020 05:00\")]\n",
    "fig = d.plot.scatter(\"value.utc\", \"value.scrollYDistance\", xlabel=\"Time created\", ylabel=\"Vertical scroll position in px\")\n",
    "fig.invert_yaxis()\n",
    "plt.gca().xaxis.set_major_formatter(mdates.DateFormatter(\"%H:%M\")) \n",
    "plt.gca().vlines(d.loc[d[\"sessionstart\"]==1, \"value.utc\"], 0, 10000, colors=\"green\", label=\"reading_start\") \n",
    "plt.gca().vlines(d.loc[d[\"sessionbreakstart\"]==1, \"value.utc\"], 0, 10000, colors=\"red\", linestyles=\"dashed\", label=\"reading_pause\")\n",
    "plt.gca().vlines(d.loc[d[\"sessionbreakend\"]==1, \"value.utc\"], 0, 10000, colors=\"green\", linestyles=\"dashed\", label=\"reading_continue\")\n",
    "plt.gca().vlines(d.loc[d[\"sessionend\"]==1, \"value.utc\"], 0, 10000, colors=\"red\", label=\"reading_end\")\n",
    "fig.legend(loc=\"center left\", bbox_to_anchor=(1, 0.5))\n",
    "fig\n",
    "plt.rc('font', size=15)\n",
    "plt.rc(\"axes\", titlesize=15)\n",
    "plt.rc(\"legend\", fontsize=12)\n",
    "plt.savefig(\"reading_session.png\", dpi=300, bbox_inches='tight')\n",
    "del d"
   ]
  },
  {
   "cell_type": "markdown",
   "metadata": {},
   "source": [
    "### Filter scroll logs between start and end"
   ]
  },
  {
   "cell_type": "code",
   "execution_count": null,
   "metadata": {},
   "outputs": [
    {
     "ename": "",
     "evalue": "",
     "output_type": "error",
     "traceback": [
      "\u001b[1;31mFailed to start the Kernel. \n",
      "Unhandled error. \n",
      "View Jupyter <a href='command:jupyter.viewOutput'>log</a> for further details."
     ]
    }
   ],
   "source": [
    "df_session = df_scroll[(df_scroll[\"sessionstart\"] == True) | (df_scroll[\"sessionend\"] == True) | (df_scroll[\"sessionbreakstart\"] == True) | (df_scroll[\"sessionbreakend\"] == True)]\n",
    "df_session"
   ]
  },
  {
   "cell_type": "code",
   "execution_count": null,
   "metadata": {},
   "outputs": [
    {
     "ename": "",
     "evalue": "",
     "output_type": "error",
     "traceback": [
      "\u001b[1;31mFailed to start the Kernel. \n",
      "Unhandled error. \n",
      "View Jupyter <a href='command:jupyter.viewOutput'>log</a> for further details."
     ]
    }
   ],
   "source": [
    "df_session[\"state\"] = np.select([df_session[\"sessionstart\"], df_session[\"sessionend\"], df_session[\"sessionbreakstart\"], df_session[\"sessionbreakend\"]], [\"sessionstart\", \"sessionend\", \"sessionbreakstart\", \"sessionbreakend\"])\n",
    "df_session[\"state\"]"
   ]
  },
  {
   "cell_type": "code",
   "execution_count": null,
   "metadata": {},
   "outputs": [
    {
     "ename": "",
     "evalue": "",
     "output_type": "error",
     "traceback": [
      "\u001b[1;31mFailed to start the Kernel. \n",
      "Unhandled error. \n",
      "View Jupyter <a href='command:jupyter.viewOutput'>log</a> for further details."
     ]
    }
   ],
   "source": [
    "df_session[\"sessionstart_or_breakend\"] = df_session[\"sessionstart\"] + df_session[\"sessionbreakend\"] \n",
    "df_session[\"sessionid\"] = df_session.groupby([\"userid\", \"value.pageid\"])[\"sessionstart_or_breakend\"].cumsum()"
   ]
  },
  {
   "cell_type": "code",
   "execution_count": null,
   "metadata": {},
   "outputs": [
    {
     "ename": "",
     "evalue": "",
     "output_type": "error",
     "traceback": [
      "\u001b[1;31mFailed to start the Kernel. \n",
      "Unhandled error. \n",
      "View Jupyter <a href='command:jupyter.viewOutput'>log</a> for further details."
     ]
    }
   ],
   "source": [
    "df_session = df_session[[\"userid\", \"value.pageid\", \"sessionid\", \"state\", \"value.utc\", \"sessionstart\", \"sessionbreakstart\", \"sessionbreakend\", \"sessionend\"]]"
   ]
  },
  {
   "cell_type": "code",
   "execution_count": null,
   "metadata": {},
   "outputs": [
    {
     "ename": "",
     "evalue": "",
     "output_type": "error",
     "traceback": [
      "\u001b[1;31mFailed to start the Kernel. \n",
      "Unhandled error. \n",
      "View Jupyter <a href='command:jupyter.viewOutput'>log</a> for further details."
     ]
    }
   ],
   "source": [
    "df_session = df_session.pivot(index=[\"userid\", \"value.pageid\", \"sessionid\"], columns=\"state\", values=\"value.utc\")[[\"sessionstart\", \"sessionbreakstart\", \"sessionbreakend\", \"sessionend\"]].reset_index()\n",
    "df_session"
   ]
  },
  {
   "cell_type": "markdown",
   "metadata": {},
   "source": [
    "### Filter pure breaks"
   ]
  },
  {
   "cell_type": "code",
   "execution_count": null,
   "metadata": {},
   "outputs": [
    {
     "ename": "",
     "evalue": "",
     "output_type": "error",
     "traceback": [
      "\u001b[1;31mFailed to start the Kernel. \n",
      "Unhandled error. \n",
      "View Jupyter <a href='command:jupyter.viewOutput'>log</a> for further details."
     ]
    }
   ],
   "source": [
    "df_session = df_session[~((~df_session[\"sessionbreakstart\"].isna()) & (~df_session[\"sessionbreakend\"].isna()))]\n",
    "df_session"
   ]
  },
  {
   "cell_type": "markdown",
   "metadata": {},
   "source": [
    "## Load and preprocess quiz attempts"
   ]
  },
  {
   "cell_type": "code",
   "execution_count": null,
   "metadata": {},
   "outputs": [
    {
     "ename": "",
     "evalue": "",
     "output_type": "error",
     "traceback": [
      "\u001b[1;31mFailed to start the Kernel. \n",
      "Unhandled error. \n",
      "View Jupyter <a href='command:jupyter.viewOutput'>log</a> for further details."
     ]
    }
   ],
   "source": [
    "df_attempts = pd.read_csv(subfolder + \"m_quiz_attempts.csv\", sep=\";\")\n",
    "df_attempts = df_attempts[(~df_attempts[\"userid\"].isin(no_students)) & (df_attempts[\"userid\"].isin(user_acceptances[user_acceptances[\"Einwilligungserklärung zur Forschungsbeteiligung\"] == \"Akzeptiert\"][\"userid\"]))] \n",
    "df_attempts"
   ]
  },
  {
   "cell_type": "code",
   "execution_count": null,
   "metadata": {},
   "outputs": [
    {
     "ename": "",
     "evalue": "",
     "output_type": "error",
     "traceback": [
      "\u001b[1;31mFailed to start the Kernel. \n",
      "Unhandled error. \n",
      "View Jupyter <a href='command:jupyter.viewOutput'>log</a> for further details."
     ]
    }
   ],
   "source": [
    "df_attempts[\"timestart\"] = pd.to_datetime(df_attempts[\"timestart\"], unit=\"s\")\n",
    "df_attempts[\"timefinish\"] = pd.to_datetime(df_attempts[\"timefinish\"], unit=\"s\")\n",
    "df_attempts[\"timemodified\"] = pd.to_datetime(df_attempts[\"timemodified\"], unit=\"s\")"
   ]
  },
  {
   "cell_type": "code",
   "execution_count": null,
   "metadata": {},
   "outputs": [
    {
     "ename": "",
     "evalue": "",
     "output_type": "error",
     "traceback": [
      "\u001b[1;31mFailed to start the Kernel. \n",
      "Unhandled error. \n",
      "View Jupyter <a href='command:jupyter.viewOutput'>log</a> for further details."
     ]
    }
   ],
   "source": [
    "df_quiz = pd.read_csv(subfolder + \"m_quiz.csv\", sep=\";\")\n",
    "df_quiz = df_quiz[(df_quiz.course.isin(select_courses))]\n",
    "df_quiz"
   ]
  },
  {
   "cell_type": "markdown",
   "metadata": {},
   "source": [
    "## Merge quiz and attempts and define quiz success or fail"
   ]
  },
  {
   "cell_type": "code",
   "execution_count": null,
   "metadata": {},
   "outputs": [
    {
     "ename": "",
     "evalue": "",
     "output_type": "error",
     "traceback": [
      "\u001b[1;31mFailed to start the Kernel. \n",
      "Unhandled error. \n",
      "View Jupyter <a href='command:jupyter.viewOutput'>log</a> for further details."
     ]
    }
   ],
   "source": [
    "df_attempts = df_attempts.merge(df_quiz, left_on=\"quiz\", right_on=\"id\", suffixes=[\"_attempt\", \"_quiz\"])\n",
    "df_attempts[\"result\"] = \"fail\"\n",
    "df_attempts.loc[(df_attempts[\"sumgrades_attempt\"] / df_attempts[\"sumgrades_quiz\"]) > 0.8, \"result\"] = \"success\""
   ]
  },
  {
   "cell_type": "markdown",
   "metadata": {},
   "source": [
    "## Assignments and Grades"
   ]
  },
  {
   "cell_type": "code",
   "execution_count": null,
   "metadata": {},
   "outputs": [
    {
     "ename": "",
     "evalue": "",
     "output_type": "error",
     "traceback": [
      "\u001b[1;31mFailed to start the Kernel. \n",
      "Unhandled error. \n",
      "View Jupyter <a href='command:jupyter.viewOutput'>log</a> for further details."
     ]
    }
   ],
   "source": [
    "df_assignments = pd.read_csv(subfolder + \"m_assign.csv\", sep=\";\")\n",
    "df_assignments = df_assignments[df_assignments[\"course\"].isin(select_courses)]"
   ]
  },
  {
   "cell_type": "code",
   "execution_count": null,
   "metadata": {},
   "outputs": [
    {
     "ename": "",
     "evalue": "",
     "output_type": "error",
     "traceback": [
      "\u001b[1;31mFailed to start the Kernel. \n",
      "Unhandled error. \n",
      "View Jupyter <a href='command:jupyter.viewOutput'>log</a> for further details."
     ]
    }
   ],
   "source": [
    "df_assignment_grades = pd.read_csv(subfolder + \"m_assign_grades.csv\", sep=\";\")\n",
    "df_assignment_grades = df_assignment_grades[~df_assignment_grades[\"userid\"].isin(no_students)]\n",
    "df_assignment_grades = df_assignment_grades[df_assignment_grades[\"grade\"] >= 0]\n",
    "df_assignment_grades = df_assignment_grades.merge(df_assignments, left_on=\"assignment\", right_on=\"id\", suffixes=[\"_grades\", \"_assign\"])\n",
    "df_assignment_grades[\"result\"] = df_assignment_grades[\"grade_grades\"] / df_assignment_grades[\"grade_assign\"]\n",
    "df_assignment_grades[\"duedate\"] = pd.to_datetime(df_assignment_grades[\"duedate\"], unit=\"s\")\n",
    "df_assignment_grades[\"timecreated\"] = pd.to_datetime(df_assignment_grades[\"timecreated\"], unit=\"s\")\n",
    "df_assignment_grades[\"allowsubmissionsfromdate\"] = pd.to_datetime(df_assignment_grades[\"allowsubmissionsfromdate\"], unit=\"s\")\n",
    "df_assignment_grades"
   ]
  },
  {
   "cell_type": "code",
   "execution_count": null,
   "metadata": {},
   "outputs": [
    {
     "ename": "",
     "evalue": "",
     "output_type": "error",
     "traceback": [
      "\u001b[1;31mFailed to start the Kernel. \n",
      "Unhandled error. \n",
      "View Jupyter <a href='command:jupyter.viewOutput'>log</a> for further details."
     ]
    }
   ],
   "source": [
    "ax = df_assignment_grades.groupby(df_assignment_grades[\"timecreated\"].dt.date)[\"timecreated\"].count().plot(label=\"Assignments\")\n",
    "\n",
    "df_attempts[(df_attempts[\"state\"] == \"finished\")].resample(\"D\", on=\"timefinish\")[\"timefinish\"].count().plot(ax=ax, label=\"Quiz\")\n",
    "\n",
    "ax.vlines(df_assignment_grades[\"duedate\"].dt.date, 0, 200, colors=\"black\", label=\"Due Date\")\n",
    "ax.legend()"
   ]
  },
  {
   "cell_type": "markdown",
   "metadata": {},
   "source": [
    "## Modules and sections"
   ]
  },
  {
   "cell_type": "code",
   "execution_count": null,
   "metadata": {},
   "outputs": [
    {
     "ename": "",
     "evalue": "",
     "output_type": "error",
     "traceback": [
      "\u001b[1;31mFailed to start the Kernel. \n",
      "Unhandled error. \n",
      "View Jupyter <a href='command:jupyter.viewOutput'>log</a> for further details."
     ]
    }
   ],
   "source": [
    "# Module IDS:\n",
    "# 1 assign\n",
    "# 15 page\n",
    "# 16 quiz / assessment"
   ]
  },
  {
   "cell_type": "code",
   "execution_count": null,
   "metadata": {},
   "outputs": [
    {
     "ename": "",
     "evalue": "",
     "output_type": "error",
     "traceback": [
      "\u001b[1;31mFailed to start the Kernel. \n",
      "Unhandled error. \n",
      "View Jupyter <a href='command:jupyter.viewOutput'>log</a> for further details."
     ]
    }
   ],
   "source": [
    "df_course_modules = pd.read_csv(subfolder + \"m_course_modules.csv\", sep=\";\")\n",
    "df_course_modules = pd.merge(df_course_modules, pd.read_csv(subfolder + \"m_course_sections.csv\", sep=\";\"), left_on=\"section\", right_on=\"id\", suffixes=[\"_modules\", \"_sections\"])\n",
    "df = pd.DataFrame()\n",
    "for key, val in select_sections_per_course.items():\n",
    "    df = df.append(df_course_modules[(df_course_modules[\"course_modules\"] == key) & (df_course_modules[\"section_sections\"].isin(val))])\n",
    "df_course_modules = df.copy()\n",
    "del df\n",
    "df_course_modules"
   ]
  },
  {
   "cell_type": "markdown",
   "metadata": {},
   "source": [
    "## Merge section to reading"
   ]
  },
  {
   "cell_type": "code",
   "execution_count": null,
   "metadata": {},
   "outputs": [
    {
     "ename": "",
     "evalue": "",
     "output_type": "error",
     "traceback": [
      "\u001b[1;31mFailed to start the Kernel. \n",
      "Unhandled error. \n",
      "View Jupyter <a href='command:jupyter.viewOutput'>log</a> for further details."
     ]
    }
   ],
   "source": [
    "df_session = pd.merge(df_session, df_course_modules.loc[df_course_modules[\"module\"] == 15, [\"instance\", \"name\", \"section_sections\"]], left_on=\"value.pageid\", right_on=\"instance\", suffixes=[\"_session\", \"_sections\"]).drop(\"instance\", axis=1).rename({\"section_sections\":\"section\"}, axis=1)\n",
    "df_session"
   ]
  },
  {
   "cell_type": "markdown",
   "metadata": {},
   "source": [
    "## Merge section to assessment"
   ]
  },
  {
   "cell_type": "code",
   "execution_count": null,
   "metadata": {},
   "outputs": [
    {
     "ename": "",
     "evalue": "",
     "output_type": "error",
     "traceback": [
      "\u001b[1;31mFailed to start the Kernel. \n",
      "Unhandled error. \n",
      "View Jupyter <a href='command:jupyter.viewOutput'>log</a> for further details."
     ]
    }
   ],
   "source": [
    "df_attempts = pd.merge(df_attempts, df_course_modules.loc[df_course_modules[\"module\"] == 16, [\"instance\", \"name\", \"section_sections\"]], left_on=\"quiz\", right_on=\"instance\", suffixes=[\"_attempts\", \"_sections\"]).drop(\"instance\", axis=1).rename({\"section_sections\":\"section\"}, axis=1)\n",
    "df_attempts"
   ]
  },
  {
   "cell_type": "markdown",
   "metadata": {},
   "source": [
    "## Merge section to assignment"
   ]
  },
  {
   "cell_type": "code",
   "execution_count": null,
   "metadata": {},
   "outputs": [
    {
     "ename": "",
     "evalue": "",
     "output_type": "error",
     "traceback": [
      "\u001b[1;31mFailed to start the Kernel. \n",
      "Unhandled error. \n",
      "View Jupyter <a href='command:jupyter.viewOutput'>log</a> for further details."
     ]
    }
   ],
   "source": [
    "df_assignment_grades = pd.merge(df_assignment_grades, df_course_modules.loc[df_course_modules[\"module\"] == 1, [\"instance\", \"name\", \"section_sections\"]], left_on=\"assignment\", right_on=\"instance\", suffixes=[\"_grades\", \"_sections\"]).drop(\"instance\", axis=1).rename({\"section_sections\":\"section\"}, axis=1)\n",
    "df_assignment_grades"
   ]
  },
  {
   "cell_type": "markdown",
   "metadata": {},
   "source": [
    "## Action types coding"
   ]
  },
  {
   "cell_type": "markdown",
   "metadata": {},
   "source": [
    "### Reading"
   ]
  },
  {
   "cell_type": "code",
   "execution_count": null,
   "metadata": {},
   "outputs": [
    {
     "ename": "",
     "evalue": "",
     "output_type": "error",
     "traceback": [
      "\u001b[1;31mFailed to start the Kernel. \n",
      "Unhandled error. \n",
      "View Jupyter <a href='command:jupyter.viewOutput'>log</a> for further details."
     ]
    }
   ],
   "source": [
    "# Codes: \n",
    "# Reading - reading_start, reading_short, reading_medium, reading_long, reading_pause, reading_continue, reading_end"
   ]
  },
  {
   "cell_type": "code",
   "execution_count": null,
   "metadata": {},
   "outputs": [
    {
     "ename": "",
     "evalue": "",
     "output_type": "error",
     "traceback": [
      "\u001b[1;31mFailed to start the Kernel. \n",
      "Unhandled error. \n",
      "View Jupyter <a href='command:jupyter.viewOutput'>log</a> for further details."
     ]
    }
   ],
   "source": [
    "_, bins = pd.qcut(df_session[\"sessionbreakstart\"] - df_session[\"sessionstart\"], 3, retbins=True)\n",
    "bins"
   ]
  },
  {
   "cell_type": "code",
   "execution_count": null,
   "metadata": {},
   "outputs": [
    {
     "ename": "",
     "evalue": "",
     "output_type": "error",
     "traceback": [
      "\u001b[1;31mFailed to start the Kernel. \n",
      "Unhandled error. \n",
      "View Jupyter <a href='command:jupyter.viewOutput'>log</a> for further details."
     ]
    }
   ],
   "source": [
    "_, bins = pd.qcut(df_session[\"sessionend\"] - df_session[\"sessionstart\"], 3, retbins=True)\n",
    "bins"
   ]
  },
  {
   "cell_type": "code",
   "execution_count": null,
   "metadata": {},
   "outputs": [
    {
     "ename": "",
     "evalue": "",
     "output_type": "error",
     "traceback": [
      "\u001b[1;31mFailed to start the Kernel. \n",
      "Unhandled error. \n",
      "View Jupyter <a href='command:jupyter.viewOutput'>log</a> for further details."
     ]
    }
   ],
   "source": [
    "_, bins = pd.qcut(df_session[\"sessionend\"] - df_session[\"sessionbreakend\"], 3, retbins=True)\n",
    "bins"
   ]
  },
  {
   "cell_type": "code",
   "execution_count": null,
   "metadata": {},
   "outputs": [
    {
     "ename": "",
     "evalue": "",
     "output_type": "error",
     "traceback": [
      "\u001b[1;31mFailed to start the Kernel. \n",
      "Unhandled error. \n",
      "View Jupyter <a href='command:jupyter.viewOutput'>log</a> for further details."
     ]
    }
   ],
   "source": [
    "df_session.loc[(df_session[\"sessionbreakstart\"] - df_session[\"sessionstart\"]) > \"5 minutes\", \"action\"] = \"reading_long\"\n",
    "df_session.loc[(df_session[\"sessionbreakstart\"] - df_session[\"sessionstart\"]) < \"5 minutes\", \"action\"] = \"reading_medium\"\n",
    "df_session.loc[(df_session[\"sessionbreakstart\"] - df_session[\"sessionstart\"]) < \"1 minute\", \"action\"] = \"reading_short\"\n",
    "df_session.loc[(~df_session[\"sessionbreakstart\"].isna()) & (~df_session[\"sessionstart\"].isna()), \"timestamp\"] = df_session.loc[(~df_session[\"sessionbreakstart\"].isna()) & (~df_session[\"sessionstart\"].isna()), \"sessionstart\"] \n",
    "\n",
    "df_session.loc[(df_session[\"sessionend\"] - df_session[\"sessionstart\"]) > \"5 minutes\", \"action\"] = \"reading_long\"\n",
    "df_session.loc[(df_session[\"sessionend\"] - df_session[\"sessionstart\"]) < \"5 minutes\", \"action\"] = \"reading_medium\"\n",
    "df_session.loc[(df_session[\"sessionend\"] - df_session[\"sessionstart\"]) < \"1 minute\", \"action\"] = \"reading_short\"\n",
    "df_session.loc[(~df_session[\"sessionend\"].isna()) & (~df_session[\"sessionstart\"].isna()), \"timestamp\"] = df_session.loc[(~df_session[\"sessionend\"].isna()) & (~df_session[\"sessionstart\"].isna()), \"sessionstart\"] \n",
    "\n",
    "\n",
    "df_session.loc[(df_session[\"sessionend\"] - df_session[\"sessionbreakend\"]) > \"5 minutes\", \"action\"] = \"reading_long\"\n",
    "df_session.loc[(df_session[\"sessionend\"] - df_session[\"sessionbreakend\"]) < \"5 minutes\", \"action\"] = \"reading_medium\"\n",
    "df_session.loc[(df_session[\"sessionend\"] - df_session[\"sessionbreakend\"]) < \"1 minute\", \"action\"] = \"reading_short\"\n",
    "df_session.loc[(~df_session[\"sessionend\"].isna()) & (~df_session[\"sessionbreakend\"].isna()), \"timestamp\"] = df_session.loc[(~df_session[\"sessionend\"].isna()) & (~df_session[\"sessionbreakend\"].isna()), \"sessionbreakend\"] \n",
    "\n",
    "df_session.loc[df_session[\"action\"].isin([\"reading_short\", \"reading_medium\", \"reading_long\"]), \"timestamp\"] += pd.DateOffset(milliseconds=1)\n",
    "\n",
    "d1 = df_session[~df_session[\"sessionstart\"].isna()]\n",
    "d1[\"action\"] = \"reading_start\"\n",
    "d1[\"timestamp\"] = d1[\"sessionstart\"]\n",
    "\n",
    "d2 = df_session[~df_session[\"sessionbreakstart\"].isna()]\n",
    "d2[\"action\"] = \"reading_pause\"\n",
    "d2[\"timestamp\"] = d2[\"sessionbreakstart\"]\n",
    "\n",
    "d3 = df_session[~df_session[\"sessionbreakend\"].isna()]\n",
    "d3[\"action\"] = \"reading_continue\"\n",
    "d3[\"timestamp\"] = d3[\"sessionbreakend\"]\n",
    "\n",
    "d4 = df_session[~df_session[\"sessionend\"].isna()]\n",
    "d4[\"action\"] = \"reading_end\"\n",
    "d4[\"timestamp\"] = d4[\"sessionend\"]\n",
    "df_session = pd.concat([df_session, d1, d2, d3, d4])\n",
    "\n",
    "df_session = df_session.sort_values(\"timestamp\")\n",
    "del d1, d2, d3, d4"
   ]
  },
  {
   "cell_type": "markdown",
   "metadata": {},
   "source": [
    "### Quiz"
   ]
  },
  {
   "cell_type": "code",
   "execution_count": null,
   "metadata": {},
   "outputs": [
    {
     "ename": "",
     "evalue": "",
     "output_type": "error",
     "traceback": [
      "\u001b[1;31mFailed to start the Kernel. \n",
      "Unhandled error. \n",
      "View Jupyter <a href='command:jupyter.viewOutput'>log</a> for further details."
     ]
    }
   ],
   "source": [
    "# Codes:\n",
    "# Quiz - quiz_start, quiz_repeat_same, quiz_repeat_other, quiz_success, quiz_fail"
   ]
  },
  {
   "cell_type": "code",
   "execution_count": null,
   "metadata": {},
   "outputs": [
    {
     "ename": "",
     "evalue": "",
     "output_type": "error",
     "traceback": [
      "\u001b[1;31mFailed to start the Kernel. \n",
      "Unhandled error. \n",
      "View Jupyter <a href='command:jupyter.viewOutput'>log</a> for further details."
     ]
    }
   ],
   "source": [
    "df_attempts[\"timestamp\"] = df_attempts[\"timestart\"]\n",
    "\n",
    "df_attempts.loc[df_attempts[\"attempt\"] == 1, \"action\"] = \"quiz_start\"\n",
    "df_attempts.loc[df_attempts[\"attempt\"] > 1, \"action\"] = \"quiz_repeat_other\"\n",
    "\n",
    "d = df_attempts[df_attempts[\"state\"] == \"finished\"]\n",
    "d.loc[d[\"result\"] == \"success\", \"action\"] = \"quiz_success\"\n",
    "d.loc[d[\"result\"] == \"fail\", \"action\"] = \"quiz_fail\"\n",
    "d[\"timestamp\"] = d[\"timefinish\"]\n",
    "\n",
    "df_attempts = pd.concat([df_attempts, d])\n",
    "df_attempts = df_attempts.sort_values(\"timestamp\")\n",
    "del d"
   ]
  },
  {
   "cell_type": "markdown",
   "metadata": {},
   "source": [
    "## Merge quizzes and attempts"
   ]
  },
  {
   "cell_type": "code",
   "execution_count": null,
   "metadata": {},
   "outputs": [
    {
     "ename": "",
     "evalue": "",
     "output_type": "error",
     "traceback": [
      "\u001b[1;31mFailed to start the Kernel. \n",
      "Unhandled error. \n",
      "View Jupyter <a href='command:jupyter.viewOutput'>log</a> for further details."
     ]
    }
   ],
   "source": [
    "df_action = pd.concat([df_session[[\"userid\", \"value.pageid\",\"timestamp\", \"action\"]], df_attempts[[\"userid\", \"quiz\",\"timestamp\", \"action\", \"sumgrades_attempt\", \"sumgrades_quiz\"]]])\n",
    "df_action[\"timestamp\"] = df_action[\"timestamp\"].astype(\"datetime64\")\n",
    "df_action = df_action.sort_values(\"timestamp\").reset_index(drop=True)\n",
    "df_action"
   ]
  },
  {
   "cell_type": "markdown",
   "metadata": {},
   "source": [
    "## Define session (break) length"
   ]
  },
  {
   "cell_type": "code",
   "execution_count": null,
   "metadata": {},
   "outputs": [
    {
     "ename": "",
     "evalue": "",
     "output_type": "error",
     "traceback": [
      "\u001b[1;31mFailed to start the Kernel. \n",
      "Unhandled error. \n",
      "View Jupyter <a href='command:jupyter.viewOutput'>log</a> for further details."
     ]
    }
   ],
   "source": [
    "df_action[\"sessionid\"] = (df_action.groupby([\"userid\"])[\"timestamp\"].apply(lambda x: (x.diff() > \"45 minutes\").cumsum()))\n",
    "df_action"
   ]
  },
  {
   "cell_type": "markdown",
   "metadata": {},
   "source": [
    "## Define quiz repeat"
   ]
  },
  {
   "cell_type": "code",
   "execution_count": null,
   "metadata": {},
   "outputs": [
    {
     "ename": "",
     "evalue": "",
     "output_type": "error",
     "traceback": [
      "\u001b[1;31mFailed to start the Kernel. \n",
      "Unhandled error. \n",
      "View Jupyter <a href='command:jupyter.viewOutput'>log</a> for further details."
     ]
    }
   ],
   "source": [
    "df_action[\"action\"].value_counts()"
   ]
  },
  {
   "cell_type": "code",
   "execution_count": null,
   "metadata": {},
   "outputs": [
    {
     "ename": "",
     "evalue": "",
     "output_type": "error",
     "traceback": [
      "\u001b[1;31mFailed to start the Kernel. \n",
      "Unhandled error. \n",
      "View Jupyter <a href='command:jupyter.viewOutput'>log</a> for further details."
     ]
    }
   ],
   "source": [
    "df_action.loc[(df_action[\"action\"] == \"quiz_repeat_other\") & (df_action.groupby([\"userid\", \"sessionid\", \"quiz\"])[\"timestamp\"].rank() > 1), \"action\"] = \"quiz_repeat_same\""
   ]
  },
  {
   "cell_type": "markdown",
   "metadata": {},
   "source": [
    "## Action as names and integers"
   ]
  },
  {
   "cell_type": "code",
   "execution_count": null,
   "metadata": {},
   "outputs": [
    {
     "ename": "",
     "evalue": "",
     "output_type": "error",
     "traceback": [
      "\u001b[1;31mFailed to start the Kernel. \n",
      "Unhandled error. \n",
      "View Jupyter <a href='command:jupyter.viewOutput'>log</a> for further details."
     ]
    }
   ],
   "source": [
    "codes, actions = df_action[\"action\"].factorize(sort=True)\n",
    "codes, actions"
   ]
  },
  {
   "cell_type": "code",
   "execution_count": null,
   "metadata": {},
   "outputs": [
    {
     "ename": "",
     "evalue": "",
     "output_type": "error",
     "traceback": [
      "\u001b[1;31mFailed to start the Kernel. \n",
      "Unhandled error. \n",
      "View Jupyter <a href='command:jupyter.viewOutput'>log</a> for further details."
     ]
    }
   ],
   "source": [
    "l = actions.tolist()\n",
    "df_action[\"action_name\"] = df_action[\"action\"]\n",
    "df_action[\"action\"] = df_action[\"action\"].apply(lambda x: l.index(x))\n",
    "del l\n",
    "df_action[\"action\"]"
   ]
  },
  {
   "cell_type": "markdown",
   "metadata": {},
   "source": [
    "## Descriptive statistics"
   ]
  },
  {
   "cell_type": "markdown",
   "metadata": {},
   "source": [
    "### Number of user sessions"
   ]
  },
  {
   "cell_type": "code",
   "execution_count": null,
   "metadata": {},
   "outputs": [
    {
     "ename": "",
     "evalue": "",
     "output_type": "error",
     "traceback": [
      "\u001b[1;31mFailed to start the Kernel. \n",
      "Unhandled error. \n",
      "View Jupyter <a href='command:jupyter.viewOutput'>log</a> for further details."
     ]
    }
   ],
   "source": [
    "len(df_action.groupby([\"userid\", \"sessionid\"]))"
   ]
  },
  {
   "cell_type": "markdown",
   "metadata": {},
   "source": [
    "### Number of log entries for reading and quiz"
   ]
  },
  {
   "cell_type": "code",
   "execution_count": null,
   "metadata": {},
   "outputs": [
    {
     "ename": "",
     "evalue": "",
     "output_type": "error",
     "traceback": [
      "\u001b[1;31mFailed to start the Kernel. \n",
      "Unhandled error. \n",
      "View Jupyter <a href='command:jupyter.viewOutput'>log</a> for further details."
     ]
    }
   ],
   "source": [
    "df_action.shape"
   ]
  },
  {
   "cell_type": "markdown",
   "metadata": {},
   "source": [
    "### Max length of user sessions"
   ]
  },
  {
   "cell_type": "code",
   "execution_count": null,
   "metadata": {},
   "outputs": [
    {
     "ename": "",
     "evalue": "",
     "output_type": "error",
     "traceback": [
      "\u001b[1;31mFailed to start the Kernel. \n",
      "Unhandled error. \n",
      "View Jupyter <a href='command:jupyter.viewOutput'>log</a> for further details."
     ]
    }
   ],
   "source": [
    "df_action.groupby([\"userid\", \"sessionid\"]).apply(lambda x: len(x)).max()"
   ]
  },
  {
   "cell_type": "markdown",
   "metadata": {},
   "source": [
    "### Users reading"
   ]
  },
  {
   "cell_type": "code",
   "execution_count": null,
   "metadata": {},
   "outputs": [
    {
     "ename": "",
     "evalue": "",
     "output_type": "error",
     "traceback": [
      "\u001b[1;31mFailed to start the Kernel. \n",
      "Unhandled error. \n",
      "View Jupyter <a href='command:jupyter.viewOutput'>log</a> for further details."
     ]
    }
   ],
   "source": [
    "df_action[df_action[\"action_name\"].str.startswith(\"reading\")][\"userid\"].nunique()"
   ]
  },
  {
   "cell_type": "markdown",
   "metadata": {},
   "source": [
    "# Step 1: Modeling"
   ]
  },
  {
   "cell_type": "markdown",
   "metadata": {},
   "source": [
    "## Process mining"
   ]
  },
  {
   "cell_type": "code",
   "execution_count": null,
   "metadata": {},
   "outputs": [
    {
     "ename": "",
     "evalue": "",
     "output_type": "error",
     "traceback": [
      "\u001b[1;31mFailed to start the Kernel. \n",
      "Unhandled error. \n",
      "View Jupyter <a href='command:jupyter.viewOutput'>log</a> for further details."
     ]
    }
   ],
   "source": [
    "X = df_action.copy()\n",
    "X[\"caseid\"] = X[\"userid\"].astype(str) + \"_\" + X[\"sessionid\"].astype(str)\n",
    "X = X[[\"timestamp\", \"action_name\", \"caseid\", \"userid\", \"sessionid\"]]\n",
    "X"
   ]
  },
  {
   "cell_type": "markdown",
   "metadata": {},
   "source": [
    "## Feature generation"
   ]
  },
  {
   "cell_type": "code",
   "execution_count": null,
   "metadata": {},
   "outputs": [
    {
     "ename": "",
     "evalue": "",
     "output_type": "error",
     "traceback": [
      "\u001b[1;31mFailed to start the Kernel. \n",
      "Unhandled error. \n",
      "View Jupyter <a href='command:jupyter.viewOutput'>log</a> for further details."
     ]
    }
   ],
   "source": [
    "pd.qcut(X.groupby(\"caseid\")[\"caseid\"].count(), 3)"
   ]
  },
  {
   "cell_type": "code",
   "execution_count": null,
   "metadata": {},
   "outputs": [
    {
     "ename": "",
     "evalue": "",
     "output_type": "error",
     "traceback": [
      "\u001b[1;31mFailed to start the Kernel. \n",
      "Unhandled error. \n",
      "View Jupyter <a href='command:jupyter.viewOutput'>log</a> for further details."
     ]
    }
   ],
   "source": [
    "X[\"begin_reading\"] = X.groupby(\"caseid\").transform(\"first\")[\"action_name\"].str.startswith(\"reading\").astype(int)\n",
    "X[\"end_reading\"] = X.groupby(\"caseid\").transform(\"last\")[\"action_name\"].str.startswith(\"reading\").astype(int)\n",
    "X[\"seqlen_low\"] = (X.groupby(\"caseid\").transform(\"count\")[\"action_name\"] <= 3).astype(int)\n",
    "X[\"seqlen_high\"] = (X.groupby(\"caseid\").transform(\"count\")[\"action_name\"] > 7).astype(int)\n",
    "X[\"seqlen_mid\"] = ((X.groupby(\"caseid\").transform(\"count\")[\"action_name\"] > 3) & ~(X[\"seqlen_high\"])).astype(int)\n",
    "X[\"mid_reading\"] = X.groupby(\"caseid\")[\"action_name\"].transform(lambda x: x.value_counts().index[0]).str.startswith(\"reading\").astype(int)"
   ]
  },
  {
   "cell_type": "code",
   "execution_count": null,
   "metadata": {},
   "outputs": [
    {
     "ename": "",
     "evalue": "",
     "output_type": "error",
     "traceback": [
      "\u001b[1;31mFailed to start the Kernel. \n",
      "Unhandled error. \n",
      "View Jupyter <a href='command:jupyter.viewOutput'>log</a> for further details."
     ]
    }
   ],
   "source": [
    "plt.figure(figsize=(5,5))\n",
    "kmeans = KMeans(random_state=1)\n",
    "visualizer = KElbowVisualizer(kmeans, k=(2,30), metric=\"distortion\")\n",
    "visualizer.fit(X.groupby(\"caseid\").first()[[\"begin_reading\", \"end_reading\", \"seqlen_low\", \"seqlen_mid\", \"seqlen_high\", \"mid_reading\"]])\n",
    "visualizer.show()\n",
    "n_clusters = visualizer.elbow_value_\n",
    "kmeans = KMeans(n_clusters=n_clusters, random_state=1)\n",
    "kmeans.fit(X.groupby(\"caseid\").first()[[\"begin_reading\", \"end_reading\", \"seqlen_low\", \"seqlen_mid\", \"seqlen_high\", \"mid_reading\"]])\n",
    "kmeans.labels_"
   ]
  },
  {
   "cell_type": "code",
   "execution_count": null,
   "metadata": {},
   "outputs": [
    {
     "ename": "",
     "evalue": "",
     "output_type": "error",
     "traceback": [
      "\u001b[1;31mFailed to start the Kernel. \n",
      "Unhandled error. \n",
      "View Jupyter <a href='command:jupyter.viewOutput'>log</a> for further details."
     ]
    }
   ],
   "source": [
    "silhouette_avg = silhouette_score(X.groupby(\"caseid\").first()[[\"begin_reading\", \"end_reading\", \"seqlen_low\", \"seqlen_mid\", \"seqlen_high\", \"mid_reading\"]], kmeans.labels_)\n",
    "sample_silhouette_values = silhouette_samples(X.groupby(\"caseid\").first()[[\"begin_reading\", \"end_reading\", \"seqlen_low\", \"seqlen_mid\", \"seqlen_high\", \"mid_reading\"]], kmeans.labels_)\n",
    "y_lower = 10\n",
    "fig = plt.figure(figsize=(10, 10))\n",
    "for i in range(n_clusters):\n",
    "        # Aggregate the silhouette scores for samples belonging to\n",
    "        # cluster i, and sort them\n",
    "        ith_cluster_silhouette_values = sample_silhouette_values[kmeans.labels_ == i]\n",
    "\n",
    "        ith_cluster_silhouette_values.sort()\n",
    "\n",
    "        size_cluster_i = ith_cluster_silhouette_values.shape[0]\n",
    "        y_upper = y_lower + size_cluster_i\n",
    "\n",
    "        color = mpl.cm.nipy_spectral(float(i) / n_clusters)\n",
    "        plt.fill_betweenx(\n",
    "            np.arange(y_lower, y_upper),\n",
    "            0,\n",
    "            ith_cluster_silhouette_values,\n",
    "            facecolor=color,\n",
    "            edgecolor=color,\n",
    "            alpha=0.7,\n",
    "        )\n",
    "\n",
    "        # Label the silhouette plots with their cluster numbers at the middle\n",
    "        plt.text(-0.05, y_lower + 0.5 * size_cluster_i, str(i))\n",
    "\n",
    "        # Compute the new y_lower for next plot\n",
    "        y_lower = y_upper + 10  # 10 for the 0 samples\n",
    "del y_lower, y_upper\n",
    "silhouette_avg"
   ]
  },
  {
   "cell_type": "markdown",
   "metadata": {},
   "source": [
    "### Assign clusters to data"
   ]
  },
  {
   "cell_type": "code",
   "execution_count": null,
   "metadata": {},
   "outputs": [
    {
     "ename": "",
     "evalue": "",
     "output_type": "error",
     "traceback": [
      "\u001b[1;31mFailed to start the Kernel. \n",
      "Unhandled error. \n",
      "View Jupyter <a href='command:jupyter.viewOutput'>log</a> for further details."
     ]
    }
   ],
   "source": [
    "i = 0\n",
    "def cluster_to_groups(g):\n",
    "    global i\n",
    "    i += 1\n",
    "    return kmeans.labels_[i-1]+1\n",
    "\n",
    "X[\"cluster\"] = X.groupby(\"caseid\")[\"caseid\"].transform(cluster_to_groups)\n",
    "del i"
   ]
  },
  {
   "cell_type": "markdown",
   "metadata": {},
   "source": [
    "## Plot subprocesses"
   ]
  },
  {
   "cell_type": "code",
   "execution_count": null,
   "metadata": {},
   "outputs": [
    {
     "ename": "",
     "evalue": "",
     "output_type": "error",
     "traceback": [
      "\u001b[1;31mFailed to start the Kernel. \n",
      "Unhandled error. \n",
      "View Jupyter <a href='command:jupyter.viewOutput'>log</a> for further details."
     ]
    }
   ],
   "source": [
    "fig = plt.figure(figsize=(50,50))\n",
    "plt.subplots_adjust(hspace=0.2)\n",
    "\n",
    "for cluster in range(n_clusters):\n",
    "    x = X[X[\"cluster\"] == cluster+1]\n",
    "    lg = pm4py.format_dataframe(x, case_id='caseid', activity_key='action_name', timestamp_key='timestamp')\n",
    "\n",
    "    net = heuristics_miner.apply_heu(lg, parameters={\n",
    "        heuristics_miner.Variants.CLASSIC.value.Parameters.DEPENDENCY_THRESH: 0.9,\n",
    "        }, variant=pm4py.algo.discovery.heuristics.variants.classic)\n",
    "\n",
    "    sumstart = sum(net.start_activities[0].values())\n",
    "    sumend = sum(net.end_activities[0].values())\n",
    "    sumnodes = sum(map(lambda x: x[1].node_occ, net.nodes.items()))\n",
    "    \n",
    "    for x in net.nodes.copy().items():\n",
    "        if x[1].node_occ / sumnodes < 0.05:\n",
    "            net.nodes.pop(x[0])\n",
    "\n",
    "    graph = pydotplus_vis.get_graph(net)\n",
    "\n",
    "    for edge in graph.get_edges().copy():\n",
    "        src = edge.get_source()\n",
    "        dst = edge.get_destination()\n",
    "\n",
    "        graph.get_edge(src, dst)[0].set_fontname(\"Helvetica\")\n",
    "\n",
    "        if src == \"start_0\":\n",
    "            val = net.start_activities[0][dst] / sumstart\n",
    "        elif dst == \"end_0\" or src in net.dependency_matrix and dst in net.dependency_matrix[src]:\n",
    "            val = int(edge.get_label()) / (sum([net.nodes[src].output_connections[y][0].repr_value for y in [x for x in net.nodes[src].output_connections]]) + (net.end_activities[0][src] if src in net.end_activities[0] else 0))#net.dependency_matrix[src][dst]\n",
    "\n",
    "        if val < 0.01:\n",
    "            graph.del_edge(src, dst)\n",
    "        else:\n",
    "            edge = graph.get_edge(src, dst)[0]\n",
    "            edge.set_label(\"{:.2f}\".format(val))\n",
    "            edge.set_penwidth(1.0 + math.log(1 + val)*2)\n",
    "    \n",
    "    edges = graph.get_edges()\n",
    "    for node in graph.get_nodes().copy():\n",
    "        name = node.obj_dict[\"name\"]\n",
    "        nxt = next((x for x in edges if x.obj_dict[\"points\"][0] != name and x.obj_dict[\"points\"][1] == name), None)\n",
    "        node = graph.get_node(node.obj_dict[\"name\"])[0]\n",
    "        node.set_fontname(\"Helvetica\")\n",
    "        if name not in [\"start_0\", \"end_0\"]:\n",
    "            factor = math.log(net.activities_occurrences[name])*2\n",
    "            node.set_fontsize(factor)\n",
    "    \n",
    "    file_name = \"graph_\"+str(cluster+1)+\".png\"\n",
    "    graph.write(file_name, format=\"png\")\n",
    "    img = mpl.image.imread(file_name)\n",
    "    \n",
    "    plt.subplot(n_clusters, 1, cluster+1)\n",
    "    plt.title(\"Study pattern \" + str(cluster+1), loc=\"center\")\n",
    "    plt.grid(False)\n",
    "    plt.axis(\"off\")\n",
    "    plt.imshow(img)\n",
    "\n",
    "    graph.write_dot(\"graph_\"+str(cluster+1)+\".txt\")\n",
    "    \n",
    "del sumstart, sumend, sumnodes"
   ]
  },
  {
   "cell_type": "markdown",
   "metadata": {},
   "source": [
    "## Define study pattern from cluster"
   ]
  },
  {
   "cell_type": "code",
   "execution_count": null,
   "metadata": {},
   "outputs": [
    {
     "ename": "",
     "evalue": "",
     "output_type": "error",
     "traceback": [
      "\u001b[1;31mFailed to start the Kernel. \n",
      "Unhandled error. \n",
      "View Jupyter <a href='command:jupyter.viewOutput'>log</a> for further details."
     ]
    }
   ],
   "source": [
    "for cluster in range(n_clusters):\n",
    "    X.loc[X[\"cluster\"] == cluster+1, \"study_pattern\"] = \"Sub-process \" + str(cluster+1)"
   ]
  },
  {
   "cell_type": "markdown",
   "metadata": {},
   "source": [
    "## Descriptive Statistics"
   ]
  },
  {
   "cell_type": "markdown",
   "metadata": {},
   "source": [
    "### Users per subprocess"
   ]
  },
  {
   "cell_type": "code",
   "execution_count": null,
   "metadata": {},
   "outputs": [
    {
     "ename": "",
     "evalue": "",
     "output_type": "error",
     "traceback": [
      "\u001b[1;31mFailed to start the Kernel. \n",
      "Unhandled error. \n",
      "View Jupyter <a href='command:jupyter.viewOutput'>log</a> for further details."
     ]
    }
   ],
   "source": [
    "X.groupby([\"study_pattern\"])[\"userid\"].nunique()"
   ]
  },
  {
   "cell_type": "markdown",
   "metadata": {},
   "source": [
    "### Number of sessions per subprocess"
   ]
  },
  {
   "cell_type": "code",
   "execution_count": null,
   "metadata": {},
   "outputs": [
    {
     "ename": "",
     "evalue": "",
     "output_type": "error",
     "traceback": [
      "\u001b[1;31mFailed to start the Kernel. \n",
      "Unhandled error. \n",
      "View Jupyter <a href='command:jupyter.viewOutput'>log</a> for further details."
     ]
    }
   ],
   "source": [
    "X.groupby([\"caseid\"]).first()[\"study_pattern\"].value_counts(sort=False).sort_index()"
   ]
  },
  {
   "cell_type": "code",
   "execution_count": null,
   "metadata": {},
   "outputs": [
    {
     "ename": "",
     "evalue": "",
     "output_type": "error",
     "traceback": [
      "\u001b[1;31mFailed to start the Kernel. \n",
      "Unhandled error. \n",
      "View Jupyter <a href='command:jupyter.viewOutput'>log</a> for further details."
     ]
    }
   ],
   "source": [
    "X.groupby([\"caseid\"]).first()[\"study_pattern\"].value_counts(sort=False).sort_index().plot(kind=\"bar\", figsize=(20,10))\n",
    "plt.savefig(\"subprocess_hist.png\")"
   ]
  },
  {
   "cell_type": "markdown",
   "metadata": {},
   "source": [
    "### Mean sessions per user"
   ]
  },
  {
   "cell_type": "code",
   "execution_count": null,
   "metadata": {},
   "outputs": [
    {
     "ename": "",
     "evalue": "",
     "output_type": "error",
     "traceback": [
      "\u001b[1;31mFailed to start the Kernel. \n",
      "Unhandled error. \n",
      "View Jupyter <a href='command:jupyter.viewOutput'>log</a> for further details."
     ]
    }
   ],
   "source": [
    "X.groupby([\"study_pattern\", \"userid\"])[\"action_name\"].count().groupby([\"study_pattern\"]).agg([\"mean\", \"std\"])"
   ]
  },
  {
   "cell_type": "code",
   "execution_count": null,
   "metadata": {},
   "outputs": [
    {
     "ename": "",
     "evalue": "",
     "output_type": "error",
     "traceback": [
      "\u001b[1;31mFailed to start the Kernel. \n",
      "Unhandled error. \n",
      "View Jupyter <a href='command:jupyter.viewOutput'>log</a> for further details."
     ]
    }
   ],
   "source": [
    "X.groupby([\"study_pattern\", \"userid\"])[\"action_name\"].count().agg([\"mean\", \"std\"])"
   ]
  },
  {
   "cell_type": "code",
   "execution_count": null,
   "metadata": {},
   "outputs": [
    {
     "ename": "",
     "evalue": "",
     "output_type": "error",
     "traceback": [
      "\u001b[1;31mFailed to start the Kernel. \n",
      "Unhandled error. \n",
      "View Jupyter <a href='command:jupyter.viewOutput'>log</a> for further details."
     ]
    }
   ],
   "source": [
    "X[\"userid\"].nunique()"
   ]
  },
  {
   "cell_type": "markdown",
   "metadata": {},
   "source": [
    "# Step 2: Cluster students by study pattern over study periods"
   ]
  },
  {
   "cell_type": "code",
   "execution_count": null,
   "metadata": {},
   "outputs": [
    {
     "ename": "",
     "evalue": "",
     "output_type": "error",
     "traceback": [
      "\u001b[1;31mFailed to start the Kernel. \n",
      "Unhandled error. \n",
      "View Jupyter <a href='command:jupyter.viewOutput'>log</a> for further details."
     ]
    }
   ],
   "source": [
    "df_patterns = X.copy()"
   ]
  },
  {
   "cell_type": "markdown",
   "metadata": {},
   "source": [
    "## Define study period as times between assignment due dates (plus tail)"
   ]
  },
  {
   "cell_type": "code",
   "execution_count": null,
   "metadata": {},
   "outputs": [
    {
     "ename": "",
     "evalue": "",
     "output_type": "error",
     "traceback": [
      "\u001b[1;31mFailed to start the Kernel. \n",
      "Unhandled error. \n",
      "View Jupyter <a href='command:jupyter.viewOutput'>log</a> for further details."
     ]
    }
   ],
   "source": [
    "periods = df_assignment_grades[\"duedate\"].sort_values().unique()\n",
    "periods = np.append(periods, [np.datetime64('2021-02-28T22:59:00.000000000'), np.datetime64('2021-03-31T22:59:00.000000000')])\n",
    "periods"
   ]
  },
  {
   "cell_type": "markdown",
   "metadata": {},
   "source": [
    "## Define period names"
   ]
  },
  {
   "cell_type": "code",
   "execution_count": null,
   "metadata": {},
   "outputs": [
    {
     "ename": "",
     "evalue": "",
     "output_type": "error",
     "traceback": [
      "\u001b[1;31mFailed to start the Kernel. \n",
      "Unhandled error. \n",
      "View Jupyter <a href='command:jupyter.viewOutput'>log</a> for further details."
     ]
    }
   ],
   "source": [
    "period_names = [\"P1\", \"P2\", \"P3\", \"P4\", \"P5\", \"P6\"]"
   ]
  },
  {
   "cell_type": "markdown",
   "metadata": {},
   "source": [
    "## Name study periods"
   ]
  },
  {
   "cell_type": "code",
   "execution_count": null,
   "metadata": {},
   "outputs": [
    {
     "ename": "",
     "evalue": "",
     "output_type": "error",
     "traceback": [
      "\u001b[1;31mFailed to start the Kernel. \n",
      "Unhandled error. \n",
      "View Jupyter <a href='command:jupyter.viewOutput'>log</a> for further details."
     ]
    }
   ],
   "source": [
    "for i, duedate in enumerate(reversed(periods)):\n",
    "    df_patterns.loc[df_patterns[\"timestamp\"] < duedate, \"period\"] = period_names[-(i+1)]"
   ]
  },
  {
   "cell_type": "markdown",
   "metadata": {},
   "source": [
    "## Descriptive statistics"
   ]
  },
  {
   "cell_type": "code",
   "execution_count": null,
   "metadata": {},
   "outputs": [
    {
     "ename": "",
     "evalue": "",
     "output_type": "error",
     "traceback": [
      "\u001b[1;31mFailed to start the Kernel. \n",
      "Unhandled error. \n",
      "View Jupyter <a href='command:jupyter.viewOutput'>log</a> for further details."
     ]
    }
   ],
   "source": [
    "df_patterns.groupby([\"caseid\"]).first()[[\"period\",\"study_pattern\"]].value_counts().unstack().plot(kind=\"bar\", stacked=True, figsize=(20,10))\n",
    "plt.savefig(\"period_hist.png\")"
   ]
  },
  {
   "cell_type": "markdown",
   "metadata": {},
   "source": [
    "## Manually combine subprocesses"
   ]
  },
  {
   "cell_type": "code",
   "execution_count": null,
   "metadata": {},
   "outputs": [
    {
     "ename": "",
     "evalue": "",
     "output_type": "error",
     "traceback": [
      "\u001b[1;31mFailed to start the Kernel. \n",
      "Unhandled error. \n",
      "View Jupyter <a href='command:jupyter.viewOutput'>log</a> for further details."
     ]
    }
   ],
   "source": [
    "df_patterns = df_patterns.replace({\n",
    "    \"Sub-process 1\": \"Mainly quiz\", \n",
    "    \"Sub-process 2\": \"Mainly reading\",\n",
    "    \"Sub-process 3\": \"Mainly quiz\",\n",
    "    \"Sub-process 4\": \"Mainly quiz\",\n",
    "    \"Sub-process 5\": \"Reading and quiz\",\n",
    "    \"Sub-process 6\": \"Mainly reading\"\n",
    "    })\n",
    "df_patterns"
   ]
  },
  {
   "cell_type": "markdown",
   "metadata": {},
   "source": [
    "## Distribution of subprocesses per student and period"
   ]
  },
  {
   "cell_type": "code",
   "execution_count": null,
   "metadata": {},
   "outputs": [
    {
     "ename": "",
     "evalue": "",
     "output_type": "error",
     "traceback": [
      "\u001b[1;31mFailed to start the Kernel. \n",
      "Unhandled error. \n",
      "View Jupyter <a href='command:jupyter.viewOutput'>log</a> for further details."
     ]
    }
   ],
   "source": [
    "d = df_patterns.copy()\n",
    "d[\"study_pattern\"] = d[\"study_pattern\"].astype(\"category\")\n",
    "labels = d[\"study_pattern\"].cat.categories.tolist()\n",
    "df_patterns = d.pivot_table(index=\"userid\", values=\"study_pattern\", columns=\"period\", aggfunc=lambda x: labels[x.value_counts(normalize=True, sort=False).argmax()]).replace(np.nan, \"(No reading/quiz)\").astype(str).reset_index()\n",
    "del d, labels\n",
    "df_patterns"
   ]
  },
  {
   "cell_type": "markdown",
   "metadata": {},
   "source": [
    "## Clustering"
   ]
  },
  {
   "cell_type": "markdown",
   "metadata": {},
   "source": [
    "### One-Hot Encoding"
   ]
  },
  {
   "cell_type": "code",
   "execution_count": null,
   "metadata": {},
   "outputs": [
    {
     "ename": "",
     "evalue": "",
     "output_type": "error",
     "traceback": [
      "\u001b[1;31mFailed to start the Kernel. \n",
      "Unhandled error. \n",
      "View Jupyter <a href='command:jupyter.viewOutput'>log</a> for further details."
     ]
    }
   ],
   "source": [
    "df_patterns_dummies = pd.get_dummies(df_patterns.drop(\"userid\", axis=1))\n",
    "df_patterns_dummies"
   ]
  },
  {
   "cell_type": "markdown",
   "metadata": {},
   "source": [
    "### KMeans"
   ]
  },
  {
   "cell_type": "code",
   "execution_count": null,
   "metadata": {},
   "outputs": [
    {
     "ename": "",
     "evalue": "",
     "output_type": "error",
     "traceback": [
      "\u001b[1;31mFailed to start the Kernel. \n",
      "Unhandled error. \n",
      "View Jupyter <a href='command:jupyter.viewOutput'>log</a> for further details."
     ]
    }
   ],
   "source": [
    "kmeans = KMeans(random_state=1)\n",
    "plt.figure(figsize=(5,5))\n",
    "visualizer = KElbowVisualizer(kmeans, k=(2,20), metric=\"silhouette\")\n",
    "visualizer.fit(df_patterns_dummies)\n",
    "plt.figure(figsize=(5,5))\n",
    "visualizer = KElbowVisualizer(kmeans, k=(2,20), metric=\"distortion\")\n",
    "visualizer.fit(df_patterns_dummies)\n",
    "n_clusters = 7\n",
    "kmeans = KMeans(n_clusters=n_clusters, random_state=1)\n",
    "labels = kmeans.fit_predict(df_patterns_dummies)\n",
    "labels"
   ]
  },
  {
   "cell_type": "markdown",
   "metadata": {},
   "source": [
    "### Get distortion score"
   ]
  },
  {
   "cell_type": "code",
   "execution_count": null,
   "metadata": {},
   "outputs": [
    {
     "ename": "",
     "evalue": "",
     "output_type": "error",
     "traceback": [
      "\u001b[1;31mFailed to start the Kernel. \n",
      "Unhandled error. \n",
      "View Jupyter <a href='command:jupyter.viewOutput'>log</a> for further details."
     ]
    }
   ],
   "source": [
    "visualizer.k_scores_[n_clusters-1]"
   ]
  },
  {
   "cell_type": "code",
   "execution_count": null,
   "metadata": {},
   "outputs": [
    {
     "ename": "",
     "evalue": "",
     "output_type": "error",
     "traceback": [
      "\u001b[1;31mFailed to start the Kernel. \n",
      "Unhandled error. \n",
      "View Jupyter <a href='command:jupyter.viewOutput'>log</a> for further details."
     ]
    }
   ],
   "source": [
    "silhouette_avg = silhouette_score(df_patterns_dummies, labels)\n",
    "sample_silhouette_values = silhouette_samples(df_patterns_dummies, labels)\n",
    "y_lower = 10\n",
    "fig = plt.figure(figsize=(10, 10))\n",
    "for i in range(n_clusters):\n",
    "        # Aggregate the silhouette scores for samples belonging to\n",
    "        # cluster i, and sort them\n",
    "        ith_cluster_silhouette_values = sample_silhouette_values[labels == i]\n",
    "\n",
    "        ith_cluster_silhouette_values.sort()\n",
    "\n",
    "        size_cluster_i = ith_cluster_silhouette_values.shape[0]\n",
    "        y_upper = y_lower + size_cluster_i\n",
    "\n",
    "        color = mpl.cm.nipy_spectral(float(i) / n_clusters)\n",
    "        plt.fill_betweenx(\n",
    "            np.arange(y_lower, y_upper),\n",
    "            0,\n",
    "            ith_cluster_silhouette_values,\n",
    "            facecolor=color,\n",
    "            edgecolor=color,\n",
    "            alpha=0.7,\n",
    "        )\n",
    "\n",
    "        # Label the silhouette plots with their cluster numbers at the middle\n",
    "        plt.text(-0.05, y_lower + 0.5 * size_cluster_i, str(i))\n",
    "\n",
    "        # Compute the new y_lower for next plot\n",
    "        y_lower = y_upper + 10  # 10 for the 0 samples\n",
    "silhouette_avg"
   ]
  },
  {
   "cell_type": "markdown",
   "metadata": {},
   "source": [
    "### Assign clusters to data"
   ]
  },
  {
   "cell_type": "code",
   "execution_count": null,
   "metadata": {},
   "outputs": [
    {
     "ename": "",
     "evalue": "",
     "output_type": "error",
     "traceback": [
      "\u001b[1;31mFailed to start the Kernel. \n",
      "Unhandled error. \n",
      "View Jupyter <a href='command:jupyter.viewOutput'>log</a> for further details."
     ]
    }
   ],
   "source": [
    "df_patterns[\"cluster\"] = labels\n",
    "df_patterns"
   ]
  },
  {
   "cell_type": "code",
   "execution_count": null,
   "metadata": {},
   "outputs": [
    {
     "ename": "",
     "evalue": "",
     "output_type": "error",
     "traceback": [
      "\u001b[1;31mFailed to start the Kernel. \n",
      "Unhandled error. \n",
      "View Jupyter <a href='command:jupyter.viewOutput'>log</a> for further details."
     ]
    }
   ],
   "source": [
    "values = list(np.sort(pd.unique(df_patterns.drop([\"cluster\", \"userid\"], axis=1).values.ravel())))\n",
    "\n",
    "value_to_int = {j:i for i,j in enumerate(values)}\n",
    "n = len(value_to_int)\n",
    "cmap = sns.color_palette(\"Paired\", n) \n",
    "\n",
    "\n",
    "cmap = [[0.99, 0.99, 0.99],'#333333','#cecece',   '#7c7c7c']\n",
    "\n",
    "sns.set(rc={'figure.figsize':(8,10)})\n",
    "\n",
    "\n",
    "fig, ax = plt.subplots(n_clusters,1, sharex=True, \n",
    "                    constrained_layout=True,\n",
    "                 gridspec_kw={'height_ratios':df_patterns.groupby(\"cluster\")[\"cluster\"].count()})\n",
    "\n",
    "for i,x in df_patterns.groupby(\"cluster\"):\n",
    "    sns.heatmap(ax=ax[i], data=x.drop([\"cluster\", \"userid\"], axis=1).replace(value_to_int), \\\n",
    "    cmap=cmap, cbar_kws = dict(use_gridspec=False,location=\"right\", shrink=4.5, anchor=(0,4), drawedges=True), yticklabels=False)\n",
    "    \n",
    "    plt.subplots_adjust(hspace=0.2)\n",
    "    # modify colorbar:\n",
    "    colorbar = ax[i].collections[0].colorbar \n",
    "    if i == 0:\n",
    "        r = colorbar.vmax - colorbar.vmin \n",
    "        colorbar.set_ticks([colorbar.vmin + r / n * (0.5 + i) for i in range(n)])\n",
    "        colorbar.ax.set_yticklabels(list(value_to_int.keys()),rotation=0)\n",
    "    else:\n",
    "        colorbar.remove()\n",
    "\n",
    "    ax[i].set_title(\"C\" + str(i+1), rotation='vertical',x=-0.05,y=len(x)/100)\n",
    "    ax[i].set_xlabel(\"\")\n",
    "    ax[i].set_ylabel(\"N = \" + str(len(x)) + \"\")\n",
    "\n",
    "fig.savefig(\"periods_clustering.png\", bbox_inches=\"tight\", dpi=300)"
   ]
  },
  {
   "cell_type": "markdown",
   "metadata": {},
   "source": [
    "## Descriptive statistics"
   ]
  },
  {
   "cell_type": "markdown",
   "metadata": {},
   "source": [
    "### No. of sessions per cluster"
   ]
  },
  {
   "cell_type": "code",
   "execution_count": null,
   "metadata": {},
   "outputs": [
    {
     "ename": "",
     "evalue": "",
     "output_type": "error",
     "traceback": [
      "\u001b[1;31mFailed to start the Kernel. \n",
      "Unhandled error. \n",
      "View Jupyter <a href='command:jupyter.viewOutput'>log</a> for further details."
     ]
    }
   ],
   "source": [
    "i = 1\n",
    "d = pd.DataFrame()\n",
    "for userids in df_patterns.groupby(\"cluster\")[\"userid\"].unique():\n",
    "    cnt = pd.DataFrame(X[X[\"userid\"].isin(userids)].replace({\n",
    "    \"Sub-process 1\": \"Mainly quiz\", \n",
    "    \"Sub-process 2\": \"Mainly reading\",\n",
    "    \"Sub-process 3\": \"Mainly quiz\",\n",
    "    \"Sub-process 4\": \"Mainly quiz\",\n",
    "    \"Sub-process 5\": \"Reading and quiz\",\n",
    "    \"Sub-process 6\": \"Mainly reading\"\n",
    "    }).groupby([\"caseid\"]).first()[\"study_pattern\"].value_counts())\n",
    "    cnt[\"cluster\"] = i\n",
    "    d = pd.concat([d, cnt])\n",
    "    i += 1\n",
    "d = d.rename_axis(\"index\").sort_values(by=[\"cluster\", \"index\"] )\n",
    "print(d)\n",
    "d.groupby(d.index).sum(), d.groupby(\"cluster\").sum(), d.groupby(d.index).sum().sum()"
   ]
  },
  {
   "cell_type": "markdown",
   "metadata": {},
   "source": [
    "### Sessions per learner per cluster"
   ]
  },
  {
   "cell_type": "code",
   "execution_count": null,
   "metadata": {},
   "outputs": [
    {
     "ename": "",
     "evalue": "",
     "output_type": "error",
     "traceback": [
      "\u001b[1;31mFailed to start the Kernel. \n",
      "Unhandled error. \n",
      "View Jupyter <a href='command:jupyter.viewOutput'>log</a> for further details."
     ]
    }
   ],
   "source": [
    "i = 1\n",
    "for userids in df_patterns.groupby(\"cluster\")[\"userid\"].unique():\n",
    "    print(\"Cluster \" + str(i))\n",
    "    i += 1\n",
    "    print(X[X[\"userid\"].isin(userids)].groupby([\"userid\", \"caseid\"])[\"userid\"].count().agg([\"mean\", \"std\"]))"
   ]
  }
 ],
 "metadata": {
  "interpreter": {
   "hash": "421eacada532ee35ff8ff48eed44f22741b66639a96701445862ccb44d6ec6f9"
  },
  "kernelspec": {
   "display_name": "Python 3 (ipykernel)",
   "language": "python",
   "name": "python3"
  },
  "language_info": {
   "codemirror_mode": {
    "name": "ipython",
    "version": 3
   },
   "file_extension": ".py",
   "mimetype": "text/x-python",
   "name": "python",
   "nbconvert_exporter": "python",
   "pygments_lexer": "ipython3",
   "version": "3.9.10"
  }
 },
 "nbformat": 4,
 "nbformat_minor": 2
}
